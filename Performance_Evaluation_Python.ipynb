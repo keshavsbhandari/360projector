{
 "cells": [
  {
   "cell_type": "code",
   "execution_count": 2,
   "metadata": {},
   "outputs": [],
   "source": [
    "# Utils\n",
    "import numpy as np\n",
    "from PIL import Image\n",
    "from scipy.ndimage import map_coordinates"
   ]
  },
  {
   "cell_type": "code",
   "execution_count": 3,
   "metadata": {},
   "outputs": [],
   "source": [
    "def rotation_matrix(rad, ax):\n",
    "    ax = np.array(ax)\n",
    "    assert len(ax.shape) == 1 and ax.shape[0] == 3\n",
    "    ax = ax / np.sqrt((ax**2).sum())\n",
    "    R = np.diag([np.cos(rad)] * 3)\n",
    "    R = R + np.outer(ax, ax) * (1.0 - np.cos(rad))\n",
    "    ax = ax * np.sin(rad)\n",
    "    R = R + np.array([[0, -ax[2], ax[1]],\n",
    "                      [ax[2], 0, -ax[0]],\n",
    "                      [-ax[1], ax[0], 0]])\n",
    "\n",
    "    return R\n",
    "\n",
    "def xyzpers(h_fov, v_fov, u, v, out_hw, in_rot):\n",
    "    out = np.ones((*out_hw, 3), np.float32)\n",
    "    x_max = np.tan(h_fov / 2)\n",
    "    y_max = np.tan(v_fov / 2)\n",
    "    x_rng = np.linspace(-x_max, x_max, num=out_hw[1], dtype=np.float32)\n",
    "    y_rng = np.linspace(-y_max, y_max, num=out_hw[0], dtype=np.float32)\n",
    "    out[..., :2] = np.stack(np.meshgrid(x_rng, -y_rng), -1)\n",
    "    Rx = rotation_matrix(v, [1, 0, 0])\n",
    "    Ry = rotation_matrix(u, [0, 1, 0])\n",
    "    dots = np.array([0, 0, 1.0]).dot(Rx).dot(Ry)\n",
    "    Ri = rotation_matrix(in_rot, dots)\n",
    "    return out.dot(Rx).dot(Ry).dot(Ri)\n",
    "\n",
    "\n",
    "\n",
    "def xyz2uv(xyz):\n",
    "    '''\n",
    "    xyz: ndarray in shape of [..., 3]\n",
    "    '''\n",
    "    x, y, z = np.split(xyz, 3, axis=-1)\n",
    "    u = np.arctan2(x, z)\n",
    "    c = np.sqrt(x**2 + z**2)\n",
    "    v = np.arctan2(y, c)\n",
    "\n",
    "    return np.concatenate([u, v], axis=-1)\n",
    "\n",
    "def uv2unitxyz(uv):\n",
    "    u, v = np.split(uv, 2, axis=-1)\n",
    "    y = np.sin(v)\n",
    "    c = np.cos(v)\n",
    "    x = c * np.sin(u)\n",
    "    z = c * np.cos(u)\n",
    "\n",
    "    return np.concatenate([x, y, z], axis=-1)\n",
    "\n",
    "def uv2coor(uv, h, w):\n",
    "    '''\n",
    "    uv: ndarray in shape of [..., 2]\n",
    "    h: int, height of the equirectangular image\n",
    "    w: int, width of the equirectangular image\n",
    "    '''\n",
    "    u, v = np.split(uv, 2, axis=-1)\n",
    "    coor_x = (u / (2 * np.pi) + 0.5) * w - 0.5\n",
    "    coor_y = (-v / np.pi + 0.5) * h - 0.5\n",
    "\n",
    "    return np.concatenate([coor_x, coor_y], axis=-1)\n",
    "\n",
    "def coor2uv(coorxy, h, w):\n",
    "    coor_x, coor_y = np.split(coorxy, 2, axis=-1)\n",
    "    u = ((coor_x + 0.5) / w - 0.5) * 2 * np.pi\n",
    "    v = -((coor_y + 0.5) / h - 0.5) * np.pi\n",
    "\n",
    "    return np.concatenate([u, v], axis=-1)\n",
    "\n",
    "def sample_equirec(e_img, coor_xy, order):\n",
    "    w = e_img.shape[1]\n",
    "    coor_x, coor_y = np.split(coor_xy, 2, axis=-1)\n",
    "    pad_u = np.roll(e_img[[0]], w // 2, 1)\n",
    "    pad_d = np.roll(e_img[[-1]], w // 2, 1)\n",
    "    e_img = np.concatenate([e_img, pad_d, pad_u], 0)\n",
    "    return map_coordinates(e_img, [coor_y, coor_x],\n",
    "                           order=order, mode='wrap')[..., 0]\n",
    "\n",
    "def e2p(e_img, h_fov, v_fov, u_deg, v_deg, out_hw, in_rot_deg=0, mode='bilinear'):\n",
    "    '''\n",
    "    e_img:   ndarray in shape of [H, W, *]\n",
    "    h_fov,v_fov: scalar or (scalar, scalar) field of view in degree\n",
    "    u_deg:   horizon viewing angle in range [-180, 180]\n",
    "    v_deg:   vertical viewing angle in range [-90, 90]\n",
    "    '''\n",
    "    assert len(e_img.shape) == 3\n",
    "    h, w = e_img.shape[:2]\n",
    "\n",
    "    try:\n",
    "        h_fov, v_fov = h_fov * np.pi / 180, v_fov * np.pi / 180\n",
    "    except:\n",
    "        h_fov, v_fov = fov, fov\n",
    "    in_rot = in_rot_deg * np.pi / 180\n",
    "\n",
    "    if mode == 'bilinear':\n",
    "        order = 1\n",
    "    elif mode == 'nearest':\n",
    "        order = 0\n",
    "    else:\n",
    "        raise NotImplementedError('unknown mode')\n",
    "\n",
    "    u = -u_deg * np.pi / 180\n",
    "    v = v_deg * np.pi / 180\n",
    "    xyz = xyzpers(h_fov, v_fov, u, v, out_hw, in_rot)\n",
    "    uv = xyz2uv(xyz)\n",
    "    coor_xy = uv2coor(uv, h, w)\n",
    "\n",
    "    pers_img = np.stack([\n",
    "        sample_equirec(e_img[..., i], coor_xy, order=order)\n",
    "        for i in range(e_img.shape[2])\n",
    "    ], axis=-1)\n",
    "\n",
    "    return pers_img,uv"
   ]
  },
  {
   "cell_type": "code",
   "execution_count": 4,
   "metadata": {},
   "outputs": [],
   "source": [
    "im = Image.open(\"/data/keshav/360/finalEgok360/images/Desk_work/Desk_work/0547/0.jpg\")\n",
    "imnp = np.array(im)"
   ]
  },
  {
   "cell_type": "code",
   "execution_count": 1,
   "metadata": {},
   "outputs": [
    {
     "name": "stdout",
     "output_type": "stream",
     "text": [
      "/bin/bash: -c: line 1: syntax error: unexpected end of file\n"
     ]
    }
   ],
   "source": [
    "!time python test.py|"
   ]
  },
  {
   "cell_type": "code",
   "execution_count": 3,
   "metadata": {},
   "outputs": [
    {
     "name": "stdout",
     "output_type": "stream",
     "text": [
      "\n",
      "CommandNotFoundError: Your shell has not been properly configured to use 'conda activate'.\n",
      "To initialize your shell, run\n",
      "\n",
      "    $ conda init <SHELL_NAME>\n",
      "\n",
      "Currently supported shells are:\n",
      "  - bash\n",
      "  - fish\n",
      "  - tcsh\n",
      "  - xonsh\n",
      "  - zsh\n",
      "  - powershell\n",
      "\n",
      "See 'conda init --help' for more information and options.\n",
      "\n",
      "IMPORTANT: You may need to close and restart your shell after running 'conda init'.\n",
      "\n",
      "\n"
     ]
    }
   ],
   "source": [
    "!conda activate torchlatest && python -m memory_profiler example.py"
   ]
  },
  {
   "cell_type": "code",
   "execution_count": 4,
   "metadata": {},
   "outputs": [
    {
     "data": {
      "text/plain": [
       "'/home/Students/k_b459/Projects/Project'"
      ]
     },
     "execution_count": 4,
     "metadata": {},
     "output_type": "execute_result"
    }
   ],
   "source": [
    "pwd"
   ]
  },
  {
   "cell_type": "code",
   "execution_count": null,
   "metadata": {},
   "outputs": [],
   "source": []
  }
 ],
 "metadata": {
  "kernelspec": {
   "display_name": "torchlatest",
   "language": "python",
   "name": "torchlatest"
  },
  "language_info": {
   "codemirror_mode": {
    "name": "ipython",
    "version": 3
   },
   "file_extension": ".py",
   "mimetype": "text/x-python",
   "name": "python",
   "nbconvert_exporter": "python",
   "pygments_lexer": "ipython3",
   "version": "3.8.5"
  }
 },
 "nbformat": 4,
 "nbformat_minor": 2
}
